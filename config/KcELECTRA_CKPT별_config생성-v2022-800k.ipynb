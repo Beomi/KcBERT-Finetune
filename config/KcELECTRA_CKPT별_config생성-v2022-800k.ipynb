{
 "cells": [
  {
   "cell_type": "code",
   "execution_count": 1,
   "metadata": {},
   "outputs": [],
   "source": [
    "NEW_NAME = 'KcELECTRA-v2022-0404-800k-discriminator'\n",
    "NEW_PATH = '/home/beomi/ssd4t/kcelectra-pretrain-with-namu/convert/pt-ckpt/' + NEW_NAME"
   ]
  },
  {
   "cell_type": "code",
   "execution_count": 2,
   "metadata": {},
   "outputs": [],
   "source": [
    "from glob import glob"
   ]
  },
  {
   "cell_type": "code",
   "execution_count": 3,
   "metadata": {},
   "outputs": [
    {
     "data": {
      "text/plain": [
       "['./nsmc/koelectra-base-v2.json',\n",
       " './paws/koelectra-base-v2.json',\n",
       " './korquad/koelectra-base-v2.json',\n",
       " './question-pair/koelectra-base-v2.json',\n",
       " './korsts/koelectra-base-v2.json',\n",
       " './kornli/koelectra-base-v2.json',\n",
       " './naver-ner/koelectra-base-v2.json']"
      ]
     },
     "execution_count": 3,
     "metadata": {},
     "output_type": "execute_result"
    }
   ],
   "source": [
    "glob('./*/koelectra-base-v2.json')"
   ]
  },
  {
   "cell_type": "code",
   "execution_count": 4,
   "metadata": {},
   "outputs": [
    {
     "name": "stdout",
     "output_type": "stream",
     "text": [
      "{\r\n",
      "  \"task\": \"korquad\",\r\n",
      "  \"data_dir\": \"data\",\r\n",
      "  \"ckpt_dir\": \"ckpt\",\r\n",
      "  \"train_file\": \"KorQuAD_v1.0_train.json\",\r\n",
      "  \"predict_file\": \"KorQuAD_v1.0_dev.json\",\r\n",
      "  \"threads\": 4,\r\n",
      "  \"version_2_with_negative\": false,\r\n",
      "  \"null_score_diff_threshold\": 0.0,\r\n",
      "  \"max_seq_length\": 512,\r\n",
      "  \"doc_stride\": 128,\r\n",
      "  \"max_query_length\": 64,\r\n",
      "  \"max_answer_length\": 30,\r\n",
      "  \"n_best_size\": 20,\r\n",
      "  \"verbose_logging\": true,\r\n",
      "  \"overwrite_output_dir\": true,\r\n",
      "  \"evaluate_during_training\": true,\r\n",
      "  \"eval_all_checkpoints\": true,\r\n",
      "  \"save_optimizer\": false,\r\n",
      "  \"do_lower_case\": false,\r\n",
      "  \"do_train\": true,\r\n",
      "  \"do_eval\": false,\r\n",
      "  \"num_train_epochs\": 5,\r\n",
      "  \"weight_decay\": 0.0,\r\n",
      "  \"gradient_accumulation_steps\": 1,\r\n",
      "  \"adam_epsilon\": 1e-8,\r\n",
      "  \"warmup_steps\": 0,\r\n",
      "  \"max_steps\": -1,\r\n",
      "  \"max_grad_norm\": 1.0,\r\n",
      "  \"no_cuda\": false,\r\n",
      "  \"model_type\": \"koelectra-base-v2\",\r\n",
      "  \"model_name_or_path\": \"monologg/koelectra-base-v2-discriminator\",\r\n",
      "  \"output_dir\": \"koelectra-base-v2-korquad-ckpt\",\r\n",
      "  \"seed\": 42,\r\n",
      "  \"train_batch_size\": 16,\r\n",
      "  \"eval_batch_size\": 32,\r\n",
      "  \"logging_steps\": 2000,\r\n",
      "  \"save_steps\": 2000,\r\n",
      "  \"learning_rate\": 5e-5\r\n",
      "}\r\n"
     ]
    }
   ],
   "source": [
    "!cat ./korquad/koelectra-base-v2.json"
   ]
  },
  {
   "cell_type": "code",
   "execution_count": 5,
   "metadata": {},
   "outputs": [],
   "source": [
    "import json"
   ]
  },
  {
   "cell_type": "code",
   "execution_count": 6,
   "metadata": {},
   "outputs": [],
   "source": [
    "from pprint import pprint"
   ]
  },
  {
   "cell_type": "code",
   "execution_count": 7,
   "metadata": {},
   "outputs": [],
   "source": [
    "# !ls /home/beomi/kcelectra-pretrain-with-namu/convert/pt-ckpt/kcelectra-v2022-v2-300k-discriminator"
   ]
  },
  {
   "cell_type": "code",
   "execution_count": 8,
   "metadata": {},
   "outputs": [
    {
     "data": {
      "text/plain": [
       "['/home/beomi/ssd4t/kcelectra-pretrain-with-namu/convert/pt-ckpt/KcELECTRA-v2022-0404-800k-discriminator']"
      ]
     },
     "execution_count": 8,
     "metadata": {},
     "output_type": "execute_result"
    }
   ],
   "source": [
    "models = glob(NEW_PATH)\n",
    "models"
   ]
  },
  {
   "cell_type": "code",
   "execution_count": 9,
   "metadata": {},
   "outputs": [
    {
     "name": "stdout",
     "output_type": "stream",
     "text": [
      "/home/beomi/ssd4t/kcelectra-pretrain-with-namu/convert/pt-ckpt/KcELECTRA-v2022-0404-800k-discriminator\n",
      "./nsmc/KcELECTRA-v2022-0404-800k-discriminator.json\n",
      "./paws/KcELECTRA-v2022-0404-800k-discriminator.json\n",
      "./korquad/KcELECTRA-v2022-0404-800k-discriminator.json\n",
      "./question-pair/KcELECTRA-v2022-0404-800k-discriminator.json\n",
      "./korsts/KcELECTRA-v2022-0404-800k-discriminator.json\n",
      "./kornli/KcELECTRA-v2022-0404-800k-discriminator.json\n",
      "./naver-ner/KcELECTRA-v2022-0404-800k-discriminator.json\n"
     ]
    }
   ],
   "source": [
    "for ckpt in models:\n",
    "    print(ckpt)\n",
    "#     ckpt_step = ckpt.split('-')[-2].replace('k','')\n",
    "#     print(ckpt_step)\n",
    "    for original in glob('./*/koelectra-base-v2.json'):\n",
    "        config = json.load(open(original))\n",
    "        config['model_name_or_path'] = ckpt\n",
    "        config['output_dir'] = config['output_dir'].replace('koelectra-base-v1', NEW_NAME) \n",
    "        config['output_dir'] = config['output_dir'].replace('koelectra-base', NEW_NAME)  #KorQuad\n",
    "        # pprint(config)\n",
    "        config['model_type'] = 'koelectra-base-v2'\n",
    "        new_path = original.replace('koelectra-base-v2', NEW_NAME)\n",
    "        print(new_path)\n",
    "        json.dump(config, open(new_path, 'w'), indent=2)"
   ]
  },
  {
   "cell_type": "code",
   "execution_count": 10,
   "metadata": {},
   "outputs": [
    {
     "name": "stdout",
     "output_type": "stream",
     "text": [
      "{\r\n",
      "  \"task\": \"korquad\",\r\n",
      "  \"data_dir\": \"data\",\r\n",
      "  \"ckpt_dir\": \"ckpt\",\r\n",
      "  \"train_file\": \"KorQuAD_v1.0_train.json\",\r\n",
      "  \"predict_file\": \"KorQuAD_v1.0_dev.json\",\r\n",
      "  \"threads\": 4,\r\n",
      "  \"version_2_with_negative\": false,\r\n",
      "  \"null_score_diff_threshold\": 0.0,\r\n",
      "  \"max_seq_length\": 512,\r\n",
      "  \"doc_stride\": 128,\r\n",
      "  \"max_query_length\": 64,\r\n",
      "  \"max_answer_length\": 30,\r\n",
      "  \"n_best_size\": 20,\r\n",
      "  \"verbose_logging\": true,\r\n",
      "  \"overwrite_output_dir\": true,\r\n",
      "  \"evaluate_during_training\": true,\r\n",
      "  \"eval_all_checkpoints\": true,\r\n",
      "  \"save_optimizer\": false,\r\n",
      "  \"do_lower_case\": false,\r\n",
      "  \"do_train\": true,\r\n",
      "  \"do_eval\": false,\r\n",
      "  \"num_train_epochs\": 5,\r\n",
      "  \"weight_decay\": 0.0,\r\n",
      "  \"gradient_accumulation_steps\": 1,\r\n",
      "  \"adam_epsilon\": 1e-08,\r\n",
      "  \"warmup_steps\": 0,\r\n",
      "  \"max_steps\": -1,\r\n",
      "  \"max_grad_norm\": 1.0,\r\n",
      "  \"no_cuda\": false,\r\n",
      "  \"model_type\": \"koelectra-base-v2\",\r\n",
      "  \"model_name_or_path\": \"/home/beomi/ssd4t/kcelectra-pretrain-with-namu/convert/pt-ckpt/KcELECTRA-v2022-0404-800k-discriminator\",\r\n",
      "  \"output_dir\": \"KcELECTRA-v2022-0404-800k-discriminator-v2-korquad-ckpt\",\r\n",
      "  \"seed\": 42,\r\n",
      "  \"train_batch_size\": 16,\r\n",
      "  \"eval_batch_size\": 32,\r\n",
      "  \"logging_steps\": 2000,\r\n",
      "  \"save_steps\": 2000,\r\n",
      "  \"learning_rate\": 5e-05\r\n",
      "}"
     ]
    }
   ],
   "source": [
    "nsmc_path = f'./korquad/{NEW_NAME}.json'\n",
    "!cat $nsmc_path"
   ]
  },
  {
   "cell_type": "code",
   "execution_count": 11,
   "metadata": {},
   "outputs": [
    {
     "data": {
      "text/plain": [
       "'./korquad/KcELECTRA-v2022-0404-800k-discriminator.json'"
      ]
     },
     "execution_count": 11,
     "metadata": {},
     "output_type": "execute_result"
    }
   ],
   "source": [
    "nsmc_path"
   ]
  },
  {
   "cell_type": "code",
   "execution_count": 12,
   "metadata": {},
   "outputs": [
    {
     "name": "stdout",
     "output_type": "stream",
     "text": [
      "\n",
      "python3 run_seq_cls.py --task nsmc --config_file KcELECTRA-v2022-0404-800k-discriminator.json\n",
      "python3 run_seq_cls.py --task kornli --config_file KcELECTRA-v2022-0404-800k-discriminator.json\n",
      "python3 run_seq_cls.py --task paws --config_file KcELECTRA-v2022-0404-800k-discriminator.json\n",
      "python3 run_seq_cls.py --task question-pair --config_file KcELECTRA-v2022-0404-800k-discriminator.json\n",
      "python3 run_seq_cls.py --task korsts --config_file KcELECTRA-v2022-0404-800k-discriminator.json\n",
      "python3 run_ner.py --task naver-ner --config_file KcELECTRA-v2022-0404-800k-discriminator.json\n",
      "python3 run_squad.py --task korquad --config_file KcELECTRA-v2022-0404-800k-discriminator.json\n",
      "\n"
     ]
    }
   ],
   "source": [
    "a = '''\n",
    "python3 run_seq_cls.py --task nsmc --config_file kcbert-base-v2022.json\n",
    "python3 run_seq_cls.py --task kornli --config_file kcbert-base-v2022.json\n",
    "python3 run_seq_cls.py --task paws --config_file kcbert-base-v2022.json\n",
    "python3 run_seq_cls.py --task question-pair --config_file kcbert-base-v2022.json\n",
    "python3 run_seq_cls.py --task korsts --config_file kcbert-base-v2022.json\n",
    "python3 run_ner.py --task naver-ner --config_file kcbert-base-v2022.json\n",
    "python3 run_squad.py --task korquad --config_file kcbert-base-v2022.json\n",
    "'''.replace('kcbert-base-v2022.json', 'KcELECTRA-v2022-0404-800k-discriminator.json')\n",
    "print(a)"
   ]
  },
  {
   "cell_type": "code",
   "execution_count": null,
   "metadata": {},
   "outputs": [],
   "source": []
  }
 ],
 "metadata": {
  "kernelspec": {
   "display_name": "KcBERTv2022-py37",
   "language": "python",
   "name": "kcbertv2022-py37"
  },
  "language_info": {
   "codemirror_mode": {
    "name": "ipython",
    "version": 3
   },
   "file_extension": ".py",
   "mimetype": "text/x-python",
   "name": "python",
   "nbconvert_exporter": "python",
   "pygments_lexer": "ipython3",
   "version": "3.7.11"
  }
 },
 "nbformat": 4,
 "nbformat_minor": 4
}
