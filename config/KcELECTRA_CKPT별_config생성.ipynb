{
 "cells": [
  {
   "cell_type": "code",
   "execution_count": 1,
   "metadata": {},
   "outputs": [],
   "source": [
    "from glob import glob"
   ]
  },
  {
   "cell_type": "code",
   "execution_count": 2,
   "metadata": {},
   "outputs": [
    {
     "name": "stdout",
     "output_type": "stream",
     "text": [
      "distilkobert.json\t\tkcelectra-base-dev-500k.json\r\n",
      "hanbert.json\t\t\tkcelectra-base-dev-700k.json\r\n",
      "kcbert-base.json\t\tkcelectra-base-dev-900k.json\r\n",
      "kcbert-large.json\t\tkcelectra-base-v1.json\r\n",
      "KcELECTRA-base-50135-100k.json\tkobert.json\r\n",
      "KcELECTRA-base-50135-200k.json\tkoelectra-base.json\r\n",
      "KcELECTRA-base-50135-300k.json\tkoelectra-base-v2.json\r\n",
      "KcELECTRA-base-50135-400k.json\tkoelectra-small.json\r\n",
      "kcelectra-base-dev-1000k.json\tkoelectra-small-v2.json\r\n",
      "kcelectra-base-dev-1025k.json\txlm-roberta.json\r\n"
     ]
    }
   ],
   "source": [
    "!ls kornli/"
   ]
  },
  {
   "cell_type": "code",
   "execution_count": 3,
   "metadata": {},
   "outputs": [
    {
     "name": "stdout",
     "output_type": "stream",
     "text": [
      "{\r\n",
      "  \"task\": \"kornli\",\r\n",
      "  \"data_dir\": \"data\",\r\n",
      "  \"ckpt_dir\": \"ckpt\",\r\n",
      "  \"train_file\": \"multinli.train.ko.tsv\",\r\n",
      "  \"dev_file\": \"xnli.dev.ko.tsv\",\r\n",
      "  \"test_file\": \"xnli.test.ko.tsv\",\r\n",
      "  \"evaluate_test_during_training\": false,\r\n",
      "  \"eval_all_checkpoints\": true,\r\n",
      "  \"save_optimizer\": false,\r\n",
      "  \"do_lower_case\": false,\r\n",
      "  \"do_train\": true,\r\n",
      "  \"do_eval\": true,\r\n",
      "  \"max_seq_len\": 72,\r\n",
      "  \"num_train_epochs\": 10,\r\n",
      "  \"weight_decay\": 0.0,\r\n",
      "  \"gradient_accumulation_steps\": 1,\r\n",
      "  \"adam_epsilon\": 1e-8,\r\n",
      "  \"warmup_steps\": 0,\r\n",
      "  \"max_steps\": -1,\r\n",
      "  \"max_grad_norm\": 1.0,\r\n",
      "  \"no_cuda\": false,\r\n",
      "  \"model_type\": \"kcelectra-base-v1\",\r\n",
      "  \"model_name_or_path\": \"beomi/KcELECTRA-base-klue-discriminator-dev\",\r\n",
      "  \"output_dir\": \"kcelectra-base-v1-kornli-ckpt\",\r\n",
      "  \"seed\": 42,\r\n",
      "  \"train_batch_size\": 128,\r\n",
      "  \"eval_batch_size\": 256,\r\n",
      "  \"logging_steps\": 3000,\r\n",
      "  \"save_steps\": 3000,\r\n",
      "  \"learning_rate\": 3e-5\r\n",
      "}"
     ]
    }
   ],
   "source": [
    "!cat kornli/kcelectra-base-v1.json"
   ]
  },
  {
   "cell_type": "code",
   "execution_count": 4,
   "metadata": {},
   "outputs": [
    {
     "data": {
      "text/plain": [
       "['./kornli/kcelectra-base-v1.json',\n",
       " './nsmc/kcelectra-base-v1.json',\n",
       " './korsts/kcelectra-base-v1.json',\n",
       " './naver-ner/kcelectra-base-v1.json',\n",
       " './korquad/kcelectra-base-v1.json',\n",
       " './question-pair/kcelectra-base-v1.json',\n",
       " './paws/kcelectra-base-v1.json']"
      ]
     },
     "execution_count": 4,
     "metadata": {},
     "output_type": "execute_result"
    }
   ],
   "source": [
    "glob('./*/kcelectra-base-v1.json')"
   ]
  },
  {
   "cell_type": "code",
   "execution_count": 5,
   "metadata": {},
   "outputs": [],
   "source": [
    "import json"
   ]
  },
  {
   "cell_type": "code",
   "execution_count": 6,
   "metadata": {},
   "outputs": [],
   "source": [
    "from pprint import pprint"
   ]
  },
  {
   "cell_type": "code",
   "execution_count": 7,
   "metadata": {},
   "outputs": [
    {
     "name": "stdout",
     "output_type": "stream",
     "text": [
      "config.json\t   special_tokens_map.json  vocab.txt\r\n",
      "pytorch_model.bin  tokenizer_config.json\r\n"
     ]
    }
   ],
   "source": [
    "!ls /home/jovyan/2021.03.09.KcELECTRA-Retry/KLUE-ELECTRA/convert/pt-ckpt/KcELECTRA-base-50135-100k"
   ]
  },
  {
   "cell_type": "code",
   "execution_count": 8,
   "metadata": {},
   "outputs": [
    {
     "data": {
      "text/plain": [
       "['/home/jovyan/2021.03.09.KcELECTRA-Retry/KLUE-ELECTRA/convert/pt-ckpt/KcELECTRA-base-50135-200k',\n",
       " '/home/jovyan/2021.03.09.KcELECTRA-Retry/KLUE-ELECTRA/convert/pt-ckpt/KcELECTRA-base-50135-500k',\n",
       " '/home/jovyan/2021.03.09.KcELECTRA-Retry/KLUE-ELECTRA/convert/pt-ckpt/KcELECTRA-base-50135-400k',\n",
       " '/home/jovyan/2021.03.09.KcELECTRA-Retry/KLUE-ELECTRA/convert/pt-ckpt/KcELECTRA-base-50135-300k',\n",
       " '/home/jovyan/2021.03.09.KcELECTRA-Retry/KLUE-ELECTRA/convert/pt-ckpt/KcELECTRA-base-50135-100k',\n",
       " '/home/jovyan/2021.03.09.KcELECTRA-Retry/KLUE-ELECTRA/convert/pt-ckpt/KcELECTRA-base-50135-848k']"
      ]
     },
     "execution_count": 8,
     "metadata": {},
     "output_type": "execute_result"
    }
   ],
   "source": [
    "glob('/home/jovyan/2021.03.09.KcELECTRA-Retry/KLUE-ELECTRA/convert/pt-ckpt/KcELECTRA-base-50135-*')"
   ]
  },
  {
   "cell_type": "code",
   "execution_count": 9,
   "metadata": {},
   "outputs": [
    {
     "name": "stdout",
     "output_type": "stream",
     "text": [
      "200\n",
      "./kornli/KcELECTRA-base-50135-200k.json\n",
      "./nsmc/KcELECTRA-base-50135-200k.json\n",
      "./korsts/KcELECTRA-base-50135-200k.json\n",
      "./naver-ner/KcELECTRA-base-50135-200k.json\n",
      "./korquad/KcELECTRA-base-50135-200k.json\n",
      "./question-pair/KcELECTRA-base-50135-200k.json\n",
      "./paws/KcELECTRA-base-50135-200k.json\n",
      "500\n",
      "./kornli/KcELECTRA-base-50135-500k.json\n",
      "./nsmc/KcELECTRA-base-50135-500k.json\n",
      "./korsts/KcELECTRA-base-50135-500k.json\n",
      "./naver-ner/KcELECTRA-base-50135-500k.json\n",
      "./korquad/KcELECTRA-base-50135-500k.json\n",
      "./question-pair/KcELECTRA-base-50135-500k.json\n",
      "./paws/KcELECTRA-base-50135-500k.json\n",
      "400\n",
      "./kornli/KcELECTRA-base-50135-400k.json\n",
      "./nsmc/KcELECTRA-base-50135-400k.json\n",
      "./korsts/KcELECTRA-base-50135-400k.json\n",
      "./naver-ner/KcELECTRA-base-50135-400k.json\n",
      "./korquad/KcELECTRA-base-50135-400k.json\n",
      "./question-pair/KcELECTRA-base-50135-400k.json\n",
      "./paws/KcELECTRA-base-50135-400k.json\n",
      "300\n",
      "./kornli/KcELECTRA-base-50135-300k.json\n",
      "./nsmc/KcELECTRA-base-50135-300k.json\n",
      "./korsts/KcELECTRA-base-50135-300k.json\n",
      "./naver-ner/KcELECTRA-base-50135-300k.json\n",
      "./korquad/KcELECTRA-base-50135-300k.json\n",
      "./question-pair/KcELECTRA-base-50135-300k.json\n",
      "./paws/KcELECTRA-base-50135-300k.json\n",
      "100\n",
      "./kornli/KcELECTRA-base-50135-100k.json\n",
      "./nsmc/KcELECTRA-base-50135-100k.json\n",
      "./korsts/KcELECTRA-base-50135-100k.json\n",
      "./naver-ner/KcELECTRA-base-50135-100k.json\n",
      "./korquad/KcELECTRA-base-50135-100k.json\n",
      "./question-pair/KcELECTRA-base-50135-100k.json\n",
      "./paws/KcELECTRA-base-50135-100k.json\n",
      "848\n",
      "./kornli/KcELECTRA-base-50135-848k.json\n",
      "./nsmc/KcELECTRA-base-50135-848k.json\n",
      "./korsts/KcELECTRA-base-50135-848k.json\n",
      "./naver-ner/KcELECTRA-base-50135-848k.json\n",
      "./korquad/KcELECTRA-base-50135-848k.json\n",
      "./question-pair/KcELECTRA-base-50135-848k.json\n",
      "./paws/KcELECTRA-base-50135-848k.json\n"
     ]
    }
   ],
   "source": [
    "for ckpt in glob('/home/jovyan/2021.03.09.KcELECTRA-Retry/KLUE-ELECTRA/convert/pt-ckpt/KcELECTRA-base-50135-*'): # '500', '700', '900', \n",
    "    ckpt_step = ckpt.split('-')[-1].replace('k','')\n",
    "    print(ckpt_step)\n",
    "    for original in glob('./*/kcelectra-base-v1.json'):\n",
    "        config = json.load(open(original))\n",
    "        config['model_name_or_path'] = ckpt\n",
    "        config['output_dir'] = config['output_dir'].replace('kcelectra-base-v1', ckpt.split('/')[-1]) \n",
    "        # pprint(config)\n",
    "        new_path = original.replace('kcelectra-base-v1', ckpt.split('/')[-1])\n",
    "        print(new_path)\n",
    "        json.dump(config, open(new_path, 'w'))"
   ]
  },
  {
   "cell_type": "code",
   "execution_count": 10,
   "metadata": {},
   "outputs": [],
   "source": [
    "# for ckpt in ['1000', '1025']: # '500', '700', '900', \n",
    "#     for original in glob('./*/kcelectra-base-v1.json'):\n",
    "#         config = json.load(open(original))\n",
    "#         config['model_name_or_path'] = '/home/jovyan/2021.03.09.KcELECTRA-Retry/KLUE-ELECTRA/convert/pt-ckpt/KcELECTRA-base-dev-'+ckpt+'k'\n",
    "#         config['output_dir'] = config['output_dir'].replace('kcelectra-base-v1', 'KcELECTRA-base-dev-'+ckpt+'k') \n",
    "#         # pprint(config)\n",
    "#         new_path = original.replace('v1', 'dev-'+ckpt+'k')\n",
    "#         print(new_path)\n",
    "#         json.dump(config, open(new_path, 'w'))"
   ]
  },
  {
   "cell_type": "code",
   "execution_count": null,
   "metadata": {},
   "outputs": [],
   "source": []
  }
 ],
 "metadata": {
  "kernelspec": {
   "display_name": "Python 3 (ipykernel)",
   "language": "python",
   "name": "python3"
  },
  "language_info": {
   "codemirror_mode": {
    "name": "ipython",
    "version": 3
   },
   "file_extension": ".py",
   "mimetype": "text/x-python",
   "name": "python",
   "nbconvert_exporter": "python",
   "pygments_lexer": "ipython3",
   "version": "3.9.7"
  }
 },
 "nbformat": 4,
 "nbformat_minor": 4
}
