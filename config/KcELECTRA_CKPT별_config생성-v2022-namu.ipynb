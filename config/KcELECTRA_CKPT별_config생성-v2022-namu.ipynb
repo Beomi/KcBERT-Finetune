{
 "cells": [
  {
   "cell_type": "code",
   "execution_count": 1,
   "metadata": {},
   "outputs": [],
   "source": [
    "from transformers import AutoTokenizer"
   ]
  },
  {
   "cell_type": "code",
   "execution_count": 2,
   "metadata": {},
   "outputs": [],
   "source": [
    "tk = AutoTokenizer.from_pretrained('/home/beomi/kcelectra-pretrain-with-namu/convert/pt-ckpt/kcelectra-v2022-v2-300k-discriminator')"
   ]
  },
  {
   "cell_type": "code",
   "execution_count": 3,
   "metadata": {},
   "outputs": [],
   "source": [
    "from transformers import AutoModel"
   ]
  },
  {
   "cell_type": "code",
   "execution_count": 4,
   "metadata": {},
   "outputs": [
    {
     "name": "stderr",
     "output_type": "stream",
     "text": [
      "Some weights of the model checkpoint at /home/beomi/kcelectra-pretrain-with-namu/convert/pt-ckpt/kcelectra-v2022-v2-300k-discriminator were not used when initializing ElectraModel: ['discriminator_predictions.dense.bias', 'discriminator_predictions.dense_prediction.bias', 'discriminator_predictions.dense.weight', 'discriminator_predictions.dense_prediction.weight']\n",
      "- This IS expected if you are initializing ElectraModel from the checkpoint of a model trained on another task or with another architecture (e.g. initializing a BertForSequenceClassification model from a BertForPreTraining model).\n",
      "- This IS NOT expected if you are initializing ElectraModel from the checkpoint of a model that you expect to be exactly identical (initializing a BertForSequenceClassification model from a BertForSequenceClassification model).\n"
     ]
    }
   ],
   "source": [
    "model = AutoModel.from_pretrained(\n",
    "    '/home/beomi/kcelectra-pretrain-with-namu/convert/pt-ckpt/kcelectra-v2022-v2-300k-discriminator')"
   ]
  },
  {
   "cell_type": "code",
   "execution_count": 5,
   "metadata": {},
   "outputs": [
    {
     "data": {
      "text/plain": [
       "ElectraModel(\n",
       "  (embeddings): ElectraEmbeddings(\n",
       "    (word_embeddings): Embedding(54343, 768, padding_idx=0)\n",
       "    (position_embeddings): Embedding(512, 768)\n",
       "    (token_type_embeddings): Embedding(2, 768)\n",
       "    (LayerNorm): LayerNorm((768,), eps=1e-12, elementwise_affine=True)\n",
       "    (dropout): Dropout(p=0.1, inplace=False)\n",
       "  )\n",
       "  (encoder): ElectraEncoder(\n",
       "    (layer): ModuleList(\n",
       "      (0): ElectraLayer(\n",
       "        (attention): ElectraAttention(\n",
       "          (self): ElectraSelfAttention(\n",
       "            (query): Linear(in_features=768, out_features=768, bias=True)\n",
       "            (key): Linear(in_features=768, out_features=768, bias=True)\n",
       "            (value): Linear(in_features=768, out_features=768, bias=True)\n",
       "            (dropout): Dropout(p=0.1, inplace=False)\n",
       "          )\n",
       "          (output): ElectraSelfOutput(\n",
       "            (dense): Linear(in_features=768, out_features=768, bias=True)\n",
       "            (LayerNorm): LayerNorm((768,), eps=1e-12, elementwise_affine=True)\n",
       "            (dropout): Dropout(p=0.1, inplace=False)\n",
       "          )\n",
       "        )\n",
       "        (intermediate): ElectraIntermediate(\n",
       "          (dense): Linear(in_features=768, out_features=3072, bias=True)\n",
       "        )\n",
       "        (output): ElectraOutput(\n",
       "          (dense): Linear(in_features=3072, out_features=768, bias=True)\n",
       "          (LayerNorm): LayerNorm((768,), eps=1e-12, elementwise_affine=True)\n",
       "          (dropout): Dropout(p=0.1, inplace=False)\n",
       "        )\n",
       "      )\n",
       "      (1): ElectraLayer(\n",
       "        (attention): ElectraAttention(\n",
       "          (self): ElectraSelfAttention(\n",
       "            (query): Linear(in_features=768, out_features=768, bias=True)\n",
       "            (key): Linear(in_features=768, out_features=768, bias=True)\n",
       "            (value): Linear(in_features=768, out_features=768, bias=True)\n",
       "            (dropout): Dropout(p=0.1, inplace=False)\n",
       "          )\n",
       "          (output): ElectraSelfOutput(\n",
       "            (dense): Linear(in_features=768, out_features=768, bias=True)\n",
       "            (LayerNorm): LayerNorm((768,), eps=1e-12, elementwise_affine=True)\n",
       "            (dropout): Dropout(p=0.1, inplace=False)\n",
       "          )\n",
       "        )\n",
       "        (intermediate): ElectraIntermediate(\n",
       "          (dense): Linear(in_features=768, out_features=3072, bias=True)\n",
       "        )\n",
       "        (output): ElectraOutput(\n",
       "          (dense): Linear(in_features=3072, out_features=768, bias=True)\n",
       "          (LayerNorm): LayerNorm((768,), eps=1e-12, elementwise_affine=True)\n",
       "          (dropout): Dropout(p=0.1, inplace=False)\n",
       "        )\n",
       "      )\n",
       "      (2): ElectraLayer(\n",
       "        (attention): ElectraAttention(\n",
       "          (self): ElectraSelfAttention(\n",
       "            (query): Linear(in_features=768, out_features=768, bias=True)\n",
       "            (key): Linear(in_features=768, out_features=768, bias=True)\n",
       "            (value): Linear(in_features=768, out_features=768, bias=True)\n",
       "            (dropout): Dropout(p=0.1, inplace=False)\n",
       "          )\n",
       "          (output): ElectraSelfOutput(\n",
       "            (dense): Linear(in_features=768, out_features=768, bias=True)\n",
       "            (LayerNorm): LayerNorm((768,), eps=1e-12, elementwise_affine=True)\n",
       "            (dropout): Dropout(p=0.1, inplace=False)\n",
       "          )\n",
       "        )\n",
       "        (intermediate): ElectraIntermediate(\n",
       "          (dense): Linear(in_features=768, out_features=3072, bias=True)\n",
       "        )\n",
       "        (output): ElectraOutput(\n",
       "          (dense): Linear(in_features=3072, out_features=768, bias=True)\n",
       "          (LayerNorm): LayerNorm((768,), eps=1e-12, elementwise_affine=True)\n",
       "          (dropout): Dropout(p=0.1, inplace=False)\n",
       "        )\n",
       "      )\n",
       "      (3): ElectraLayer(\n",
       "        (attention): ElectraAttention(\n",
       "          (self): ElectraSelfAttention(\n",
       "            (query): Linear(in_features=768, out_features=768, bias=True)\n",
       "            (key): Linear(in_features=768, out_features=768, bias=True)\n",
       "            (value): Linear(in_features=768, out_features=768, bias=True)\n",
       "            (dropout): Dropout(p=0.1, inplace=False)\n",
       "          )\n",
       "          (output): ElectraSelfOutput(\n",
       "            (dense): Linear(in_features=768, out_features=768, bias=True)\n",
       "            (LayerNorm): LayerNorm((768,), eps=1e-12, elementwise_affine=True)\n",
       "            (dropout): Dropout(p=0.1, inplace=False)\n",
       "          )\n",
       "        )\n",
       "        (intermediate): ElectraIntermediate(\n",
       "          (dense): Linear(in_features=768, out_features=3072, bias=True)\n",
       "        )\n",
       "        (output): ElectraOutput(\n",
       "          (dense): Linear(in_features=3072, out_features=768, bias=True)\n",
       "          (LayerNorm): LayerNorm((768,), eps=1e-12, elementwise_affine=True)\n",
       "          (dropout): Dropout(p=0.1, inplace=False)\n",
       "        )\n",
       "      )\n",
       "      (4): ElectraLayer(\n",
       "        (attention): ElectraAttention(\n",
       "          (self): ElectraSelfAttention(\n",
       "            (query): Linear(in_features=768, out_features=768, bias=True)\n",
       "            (key): Linear(in_features=768, out_features=768, bias=True)\n",
       "            (value): Linear(in_features=768, out_features=768, bias=True)\n",
       "            (dropout): Dropout(p=0.1, inplace=False)\n",
       "          )\n",
       "          (output): ElectraSelfOutput(\n",
       "            (dense): Linear(in_features=768, out_features=768, bias=True)\n",
       "            (LayerNorm): LayerNorm((768,), eps=1e-12, elementwise_affine=True)\n",
       "            (dropout): Dropout(p=0.1, inplace=False)\n",
       "          )\n",
       "        )\n",
       "        (intermediate): ElectraIntermediate(\n",
       "          (dense): Linear(in_features=768, out_features=3072, bias=True)\n",
       "        )\n",
       "        (output): ElectraOutput(\n",
       "          (dense): Linear(in_features=3072, out_features=768, bias=True)\n",
       "          (LayerNorm): LayerNorm((768,), eps=1e-12, elementwise_affine=True)\n",
       "          (dropout): Dropout(p=0.1, inplace=False)\n",
       "        )\n",
       "      )\n",
       "      (5): ElectraLayer(\n",
       "        (attention): ElectraAttention(\n",
       "          (self): ElectraSelfAttention(\n",
       "            (query): Linear(in_features=768, out_features=768, bias=True)\n",
       "            (key): Linear(in_features=768, out_features=768, bias=True)\n",
       "            (value): Linear(in_features=768, out_features=768, bias=True)\n",
       "            (dropout): Dropout(p=0.1, inplace=False)\n",
       "          )\n",
       "          (output): ElectraSelfOutput(\n",
       "            (dense): Linear(in_features=768, out_features=768, bias=True)\n",
       "            (LayerNorm): LayerNorm((768,), eps=1e-12, elementwise_affine=True)\n",
       "            (dropout): Dropout(p=0.1, inplace=False)\n",
       "          )\n",
       "        )\n",
       "        (intermediate): ElectraIntermediate(\n",
       "          (dense): Linear(in_features=768, out_features=3072, bias=True)\n",
       "        )\n",
       "        (output): ElectraOutput(\n",
       "          (dense): Linear(in_features=3072, out_features=768, bias=True)\n",
       "          (LayerNorm): LayerNorm((768,), eps=1e-12, elementwise_affine=True)\n",
       "          (dropout): Dropout(p=0.1, inplace=False)\n",
       "        )\n",
       "      )\n",
       "      (6): ElectraLayer(\n",
       "        (attention): ElectraAttention(\n",
       "          (self): ElectraSelfAttention(\n",
       "            (query): Linear(in_features=768, out_features=768, bias=True)\n",
       "            (key): Linear(in_features=768, out_features=768, bias=True)\n",
       "            (value): Linear(in_features=768, out_features=768, bias=True)\n",
       "            (dropout): Dropout(p=0.1, inplace=False)\n",
       "          )\n",
       "          (output): ElectraSelfOutput(\n",
       "            (dense): Linear(in_features=768, out_features=768, bias=True)\n",
       "            (LayerNorm): LayerNorm((768,), eps=1e-12, elementwise_affine=True)\n",
       "            (dropout): Dropout(p=0.1, inplace=False)\n",
       "          )\n",
       "        )\n",
       "        (intermediate): ElectraIntermediate(\n",
       "          (dense): Linear(in_features=768, out_features=3072, bias=True)\n",
       "        )\n",
       "        (output): ElectraOutput(\n",
       "          (dense): Linear(in_features=3072, out_features=768, bias=True)\n",
       "          (LayerNorm): LayerNorm((768,), eps=1e-12, elementwise_affine=True)\n",
       "          (dropout): Dropout(p=0.1, inplace=False)\n",
       "        )\n",
       "      )\n",
       "      (7): ElectraLayer(\n",
       "        (attention): ElectraAttention(\n",
       "          (self): ElectraSelfAttention(\n",
       "            (query): Linear(in_features=768, out_features=768, bias=True)\n",
       "            (key): Linear(in_features=768, out_features=768, bias=True)\n",
       "            (value): Linear(in_features=768, out_features=768, bias=True)\n",
       "            (dropout): Dropout(p=0.1, inplace=False)\n",
       "          )\n",
       "          (output): ElectraSelfOutput(\n",
       "            (dense): Linear(in_features=768, out_features=768, bias=True)\n",
       "            (LayerNorm): LayerNorm((768,), eps=1e-12, elementwise_affine=True)\n",
       "            (dropout): Dropout(p=0.1, inplace=False)\n",
       "          )\n",
       "        )\n",
       "        (intermediate): ElectraIntermediate(\n",
       "          (dense): Linear(in_features=768, out_features=3072, bias=True)\n",
       "        )\n",
       "        (output): ElectraOutput(\n",
       "          (dense): Linear(in_features=3072, out_features=768, bias=True)\n",
       "          (LayerNorm): LayerNorm((768,), eps=1e-12, elementwise_affine=True)\n",
       "          (dropout): Dropout(p=0.1, inplace=False)\n",
       "        )\n",
       "      )\n",
       "      (8): ElectraLayer(\n",
       "        (attention): ElectraAttention(\n",
       "          (self): ElectraSelfAttention(\n",
       "            (query): Linear(in_features=768, out_features=768, bias=True)\n",
       "            (key): Linear(in_features=768, out_features=768, bias=True)\n",
       "            (value): Linear(in_features=768, out_features=768, bias=True)\n",
       "            (dropout): Dropout(p=0.1, inplace=False)\n",
       "          )\n",
       "          (output): ElectraSelfOutput(\n",
       "            (dense): Linear(in_features=768, out_features=768, bias=True)\n",
       "            (LayerNorm): LayerNorm((768,), eps=1e-12, elementwise_affine=True)\n",
       "            (dropout): Dropout(p=0.1, inplace=False)\n",
       "          )\n",
       "        )\n",
       "        (intermediate): ElectraIntermediate(\n",
       "          (dense): Linear(in_features=768, out_features=3072, bias=True)\n",
       "        )\n",
       "        (output): ElectraOutput(\n",
       "          (dense): Linear(in_features=3072, out_features=768, bias=True)\n",
       "          (LayerNorm): LayerNorm((768,), eps=1e-12, elementwise_affine=True)\n",
       "          (dropout): Dropout(p=0.1, inplace=False)\n",
       "        )\n",
       "      )\n",
       "      (9): ElectraLayer(\n",
       "        (attention): ElectraAttention(\n",
       "          (self): ElectraSelfAttention(\n",
       "            (query): Linear(in_features=768, out_features=768, bias=True)\n",
       "            (key): Linear(in_features=768, out_features=768, bias=True)\n",
       "            (value): Linear(in_features=768, out_features=768, bias=True)\n",
       "            (dropout): Dropout(p=0.1, inplace=False)\n",
       "          )\n",
       "          (output): ElectraSelfOutput(\n",
       "            (dense): Linear(in_features=768, out_features=768, bias=True)\n",
       "            (LayerNorm): LayerNorm((768,), eps=1e-12, elementwise_affine=True)\n",
       "            (dropout): Dropout(p=0.1, inplace=False)\n",
       "          )\n",
       "        )\n",
       "        (intermediate): ElectraIntermediate(\n",
       "          (dense): Linear(in_features=768, out_features=3072, bias=True)\n",
       "        )\n",
       "        (output): ElectraOutput(\n",
       "          (dense): Linear(in_features=3072, out_features=768, bias=True)\n",
       "          (LayerNorm): LayerNorm((768,), eps=1e-12, elementwise_affine=True)\n",
       "          (dropout): Dropout(p=0.1, inplace=False)\n",
       "        )\n",
       "      )\n",
       "      (10): ElectraLayer(\n",
       "        (attention): ElectraAttention(\n",
       "          (self): ElectraSelfAttention(\n",
       "            (query): Linear(in_features=768, out_features=768, bias=True)\n",
       "            (key): Linear(in_features=768, out_features=768, bias=True)\n",
       "            (value): Linear(in_features=768, out_features=768, bias=True)\n",
       "            (dropout): Dropout(p=0.1, inplace=False)\n",
       "          )\n",
       "          (output): ElectraSelfOutput(\n",
       "            (dense): Linear(in_features=768, out_features=768, bias=True)\n",
       "            (LayerNorm): LayerNorm((768,), eps=1e-12, elementwise_affine=True)\n",
       "            (dropout): Dropout(p=0.1, inplace=False)\n",
       "          )\n",
       "        )\n",
       "        (intermediate): ElectraIntermediate(\n",
       "          (dense): Linear(in_features=768, out_features=3072, bias=True)\n",
       "        )\n",
       "        (output): ElectraOutput(\n",
       "          (dense): Linear(in_features=3072, out_features=768, bias=True)\n",
       "          (LayerNorm): LayerNorm((768,), eps=1e-12, elementwise_affine=True)\n",
       "          (dropout): Dropout(p=0.1, inplace=False)\n",
       "        )\n",
       "      )\n",
       "      (11): ElectraLayer(\n",
       "        (attention): ElectraAttention(\n",
       "          (self): ElectraSelfAttention(\n",
       "            (query): Linear(in_features=768, out_features=768, bias=True)\n",
       "            (key): Linear(in_features=768, out_features=768, bias=True)\n",
       "            (value): Linear(in_features=768, out_features=768, bias=True)\n",
       "            (dropout): Dropout(p=0.1, inplace=False)\n",
       "          )\n",
       "          (output): ElectraSelfOutput(\n",
       "            (dense): Linear(in_features=768, out_features=768, bias=True)\n",
       "            (LayerNorm): LayerNorm((768,), eps=1e-12, elementwise_affine=True)\n",
       "            (dropout): Dropout(p=0.1, inplace=False)\n",
       "          )\n",
       "        )\n",
       "        (intermediate): ElectraIntermediate(\n",
       "          (dense): Linear(in_features=768, out_features=3072, bias=True)\n",
       "        )\n",
       "        (output): ElectraOutput(\n",
       "          (dense): Linear(in_features=3072, out_features=768, bias=True)\n",
       "          (LayerNorm): LayerNorm((768,), eps=1e-12, elementwise_affine=True)\n",
       "          (dropout): Dropout(p=0.1, inplace=False)\n",
       "        )\n",
       "      )\n",
       "    )\n",
       "  )\n",
       ")"
      ]
     },
     "execution_count": 5,
     "metadata": {},
     "output_type": "execute_result"
    }
   ],
   "source": [
    "model"
   ]
  },
  {
   "cell_type": "code",
   "execution_count": null,
   "metadata": {},
   "outputs": [],
   "source": []
  },
  {
   "cell_type": "code",
   "execution_count": 6,
   "metadata": {},
   "outputs": [
    {
     "data": {
      "text/plain": [
       "PreTrainedTokenizerFast(name_or_path='/home/beomi/kcelectra-pretrain-with-namu/convert/pt-ckpt/kcelectra-v2022-v2-300k-discriminator', vocab_size=54343, model_max_len=512, is_fast=True, padding_side='right', special_tokens={'unk_token': '[UNK]', 'sep_token': '[SEP]', 'pad_token': '[PAD]', 'cls_token': '[CLS]', 'mask_token': '[MASK]'})"
      ]
     },
     "execution_count": 6,
     "metadata": {},
     "output_type": "execute_result"
    }
   ],
   "source": [
    "tk"
   ]
  },
  {
   "cell_type": "code",
   "execution_count": 7,
   "metadata": {},
   "outputs": [
    {
     "data": {
      "text/plain": [
       "['안녕', '##하세요', ',', '오늘은', '날씨', '##가', '좋네요', '.']"
      ]
     },
     "execution_count": 7,
     "metadata": {},
     "output_type": "execute_result"
    }
   ],
   "source": [
    "tk.tokenize(\"안녕하세요, 오늘은 날씨가 좋네요.\")"
   ]
  },
  {
   "cell_type": "code",
   "execution_count": 8,
   "metadata": {},
   "outputs": [
    {
     "data": {
      "text/plain": [
       "54343"
      ]
     },
     "execution_count": 8,
     "metadata": {},
     "output_type": "execute_result"
    }
   ],
   "source": [
    "len(tk.get_vocab())"
   ]
  },
  {
   "cell_type": "code",
   "execution_count": 9,
   "metadata": {},
   "outputs": [],
   "source": [
    "from glob import glob"
   ]
  },
  {
   "cell_type": "code",
   "execution_count": 10,
   "metadata": {},
   "outputs": [
    {
     "name": "stdout",
     "output_type": "stream",
     "text": [
      "huggingface/tokenizers: The current process just got forked, after parallelism has already been used. Disabling parallelism to avoid deadlocks...\n",
      "To disable this warning, you can either:\n",
      "\t- Avoid using `tokenizers` before the fork if possible\n",
      "\t- Explicitly set the environment variable TOKENIZERS_PARALLELISM=(true | false)\n",
      "distilkobert.json\t\tkcelectra-base-dev-1000k.json\r\n",
      "exkcbert-kowiki.json\t\tkcelectra-base-dev-1025k.json\r\n",
      "exkcbert-paws-extonly.json\tkcelectra-base-dev-500k.json\r\n",
      "exkcbert-paws.json\t\tkcelectra-base-dev-700k.json\r\n",
      "hanbert.json\t\t\tkcelectra-base-dev-900k.json\r\n",
      "kcbert-base.json\t\tkcelectra-base-v1.json\r\n",
      "kcbert-base-v2022.json\t\tkcelectra-v2022-dev.json\r\n",
      "kcbert-large.json\t\tkcelectra-v2022-v2-300k-discriminator.json\r\n",
      "KcELECTRA-base-50135-100k.json\tkobert.json\r\n",
      "KcELECTRA-base-50135-200k.json\tkoelectra-base.json\r\n",
      "KcELECTRA-base-50135-300k.json\tkoelectra-base-v2.json\r\n",
      "KcELECTRA-base-50135-400k.json\tkoelectra-small.json\r\n",
      "KcELECTRA-base-50135-500k.json\tkoelectra-small-v2.json\r\n",
      "KcELECTRA-base-50135-848k.json\txlm-roberta.json\r\n"
     ]
    }
   ],
   "source": [
    "!ls kornli/"
   ]
  },
  {
   "cell_type": "code",
   "execution_count": 11,
   "metadata": {},
   "outputs": [
    {
     "name": "stdout",
     "output_type": "stream",
     "text": [
      "huggingface/tokenizers: The current process just got forked, after parallelism has already been used. Disabling parallelism to avoid deadlocks...\n",
      "To disable this warning, you can either:\n",
      "\t- Avoid using `tokenizers` before the fork if possible\n",
      "\t- Explicitly set the environment variable TOKENIZERS_PARALLELISM=(true | false)\n",
      "{\r\n",
      "  \"task\": \"kornli\",\r\n",
      "  \"data_dir\": \"data\",\r\n",
      "  \"ckpt_dir\": \"ckpt\",\r\n",
      "  \"train_file\": \"multinli.train.ko.tsv\",\r\n",
      "  \"dev_file\": \"xnli.dev.ko.tsv\",\r\n",
      "  \"test_file\": \"xnli.test.ko.tsv\",\r\n",
      "  \"evaluate_test_during_training\": false,\r\n",
      "  \"eval_all_checkpoints\": true,\r\n",
      "  \"save_optimizer\": false,\r\n",
      "  \"do_lower_case\": false,\r\n",
      "  \"do_train\": true,\r\n",
      "  \"do_eval\": true,\r\n",
      "  \"max_seq_len\": 72,\r\n",
      "  \"num_train_epochs\": 10,\r\n",
      "  \"weight_decay\": 0.0,\r\n",
      "  \"gradient_accumulation_steps\": 1,\r\n",
      "  \"adam_epsilon\": 1e-8,\r\n",
      "  \"warmup_steps\": 0,\r\n",
      "  \"max_steps\": -1,\r\n",
      "  \"max_grad_norm\": 1.0,\r\n",
      "  \"no_cuda\": false,\r\n",
      "  \"model_type\": \"kcelectra-base-v1\",\r\n",
      "  \"model_name_or_path\": \"beomi/KcELECTRA-base-klue-discriminator-dev\",\r\n",
      "  \"output_dir\": \"kcelectra-base-v1-kornli-ckpt\",\r\n",
      "  \"seed\": 42,\r\n",
      "  \"train_batch_size\": 128,\r\n",
      "  \"eval_batch_size\": 256,\r\n",
      "  \"logging_steps\": 3000,\r\n",
      "  \"save_steps\": 3000,\r\n",
      "  \"learning_rate\": 3e-5\r\n",
      "}"
     ]
    }
   ],
   "source": [
    "!cat kornli/kcelectra-base-v1.json"
   ]
  },
  {
   "cell_type": "code",
   "execution_count": 12,
   "metadata": {},
   "outputs": [
    {
     "data": {
      "text/plain": [
       "['./question-pair/kcelectra-base-v1.json',\n",
       " './naver-ner/kcelectra-base-v1.json',\n",
       " './paws/kcelectra-base-v1.json',\n",
       " './korsts/kcelectra-base-v1.json',\n",
       " './kornli/kcelectra-base-v1.json',\n",
       " './korquad/kcelectra-base-v1.json',\n",
       " './nsmc/kcelectra-base-v1.json']"
      ]
     },
     "execution_count": 12,
     "metadata": {},
     "output_type": "execute_result"
    }
   ],
   "source": [
    "glob('./*/kcelectra-base-v1.json')"
   ]
  },
  {
   "cell_type": "code",
   "execution_count": 13,
   "metadata": {},
   "outputs": [],
   "source": [
    "import json"
   ]
  },
  {
   "cell_type": "code",
   "execution_count": 14,
   "metadata": {},
   "outputs": [],
   "source": [
    "from pprint import pprint"
   ]
  },
  {
   "cell_type": "code",
   "execution_count": 15,
   "metadata": {},
   "outputs": [
    {
     "name": "stdout",
     "output_type": "stream",
     "text": [
      "huggingface/tokenizers: The current process just got forked, after parallelism has already been used. Disabling parallelism to avoid deadlocks...\n",
      "To disable this warning, you can either:\n",
      "\t- Avoid using `tokenizers` before the fork if possible\n",
      "\t- Explicitly set the environment variable TOKENIZERS_PARALLELISM=(true | false)\n",
      "config.json\t   special_tokens_map.json  vocab.txt\r\n",
      "pytorch_model.bin  tokenizer_config.json\r\n"
     ]
    }
   ],
   "source": [
    "!ls /home/beomi/kcelectra-pretrain-with-namu/convert/pt-ckpt/kcelectra-v2022-v2-300k-discriminator"
   ]
  },
  {
   "cell_type": "code",
   "execution_count": 16,
   "metadata": {},
   "outputs": [
    {
     "data": {
      "text/plain": [
       "['/home/beomi/kcelectra-pretrain-with-namu/convert/pt-ckpt/kcelectra-v2022-v2-300k-discriminator']"
      ]
     },
     "execution_count": 16,
     "metadata": {},
     "output_type": "execute_result"
    }
   ],
   "source": [
    "models = glob('/home/beomi/kcelectra-pretrain-with-namu/convert/pt-ckpt/kcelectra-v2022-v2-*-discriminator')\n",
    "models"
   ]
  },
  {
   "cell_type": "code",
   "execution_count": 19,
   "metadata": {},
   "outputs": [
    {
     "name": "stdout",
     "output_type": "stream",
     "text": [
      "/home/beomi/kcelectra-pretrain-with-namu/convert/pt-ckpt/kcelectra-v2022-v2-300k-discriminator\n",
      "./question-pair/kcelectra-v2022-v2-300k-discriminator.json\n",
      "./naver-ner/kcelectra-v2022-v2-300k-discriminator.json\n",
      "./paws/kcelectra-v2022-v2-300k-discriminator.json\n",
      "./korsts/kcelectra-v2022-v2-300k-discriminator.json\n",
      "./kornli/kcelectra-v2022-v2-300k-discriminator.json\n",
      "./korquad/kcelectra-v2022-v2-300k-discriminator.json\n",
      "./nsmc/kcelectra-v2022-v2-300k-discriminator.json\n"
     ]
    }
   ],
   "source": [
    "for ckpt in models:\n",
    "    print(ckpt)\n",
    "#     ckpt_step = ckpt.split('-')[-2].replace('k','')\n",
    "#     print(ckpt_step)\n",
    "    for original in glob('./*/kcelectra-base-v1.json'):\n",
    "        config = json.load(open(original))\n",
    "        config['model_name_or_path'] = ckpt\n",
    "        config['output_dir'] = config['output_dir'].replace('kcelectra-base-v1', ckpt.split('/')[-1]) \n",
    "        # pprint(config)\n",
    "        config['model_type'] = 'koelectra-base-v2'\n",
    "        new_path = original.replace('kcelectra-base-v1', ckpt.split('/')[-1])\n",
    "        print(new_path)\n",
    "        json.dump(config, open(new_path, 'w'), indent=2)"
   ]
  },
  {
   "cell_type": "code",
   "execution_count": 20,
   "metadata": {},
   "outputs": [
    {
     "name": "stdout",
     "output_type": "stream",
     "text": [
      "huggingface/tokenizers: The current process just got forked, after parallelism has already been used. Disabling parallelism to avoid deadlocks...\n",
      "To disable this warning, you can either:\n",
      "\t- Avoid using `tokenizers` before the fork if possible\n",
      "\t- Explicitly set the environment variable TOKENIZERS_PARALLELISM=(true | false)\n",
      "{\r\n",
      "  \"task\": \"nsmc\",\r\n",
      "  \"data_dir\": \"data\",\r\n",
      "  \"ckpt_dir\": \"ckpt\",\r\n",
      "  \"train_file\": \"ratings_train.txt\",\r\n",
      "  \"dev_file\": \"\",\r\n",
      "  \"test_file\": \"ratings_test.txt\",\r\n",
      "  \"evaluate_test_during_training\": true,\r\n",
      "  \"eval_all_checkpoints\": true,\r\n",
      "  \"save_optimizer\": false,\r\n",
      "  \"do_lower_case\": false,\r\n",
      "  \"do_train\": true,\r\n",
      "  \"do_eval\": true,\r\n",
      "  \"max_seq_len\": 50,\r\n",
      "  \"num_train_epochs\": 8,\r\n",
      "  \"weight_decay\": 0.0,\r\n",
      "  \"gradient_accumulation_steps\": 1,\r\n",
      "  \"adam_epsilon\": 1e-08,\r\n",
      "  \"warmup_steps\": 0,\r\n",
      "  \"max_steps\": -1,\r\n",
      "  \"max_grad_norm\": 1.0,\r\n",
      "  \"no_cuda\": false,\r\n",
      "  \"model_type\": \"koelectra-base-v2\",\r\n",
      "  \"model_name_or_path\": \"/home/beomi/kcelectra-pretrain-with-namu/convert/pt-ckpt/kcelectra-v2022-v2-300k-discriminator\",\r\n",
      "  \"output_dir\": \"kcelectra-v2022-v2-300k-discriminator-nsmc-ckpt\",\r\n",
      "  \"seed\": 42,\r\n",
      "  \"train_batch_size\": 64,\r\n",
      "  \"eval_batch_size\": 128,\r\n",
      "  \"logging_steps\": 2000,\r\n",
      "  \"save_steps\": 2000,\r\n",
      "  \"learning_rate\": 5e-05\r\n",
      "}"
     ]
    }
   ],
   "source": [
    "!cat ./nsmc/kcelectra-v2022-v2-300k-discriminator.json"
   ]
  },
  {
   "cell_type": "code",
   "execution_count": null,
   "metadata": {},
   "outputs": [],
   "source": []
  },
  {
   "cell_type": "code",
   "execution_count": null,
   "metadata": {},
   "outputs": [],
   "source": []
  }
 ],
 "metadata": {
  "kernelspec": {
   "display_name": "tag-to-sentence",
   "language": "python",
   "name": "tag-to-sentence"
  },
  "language_info": {
   "codemirror_mode": {
    "name": "ipython",
    "version": 3
   },
   "file_extension": ".py",
   "mimetype": "text/x-python",
   "name": "python",
   "nbconvert_exporter": "python",
   "pygments_lexer": "ipython3",
   "version": "3.9.7"
  }
 },
 "nbformat": 4,
 "nbformat_minor": 4
}
