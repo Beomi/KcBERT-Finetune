{
 "cells": [
  {
   "cell_type": "code",
   "execution_count": 1,
   "metadata": {},
   "outputs": [],
   "source": [
    "NEW_NAME = 'KcELECTRA-v2022-namu-400k-discriminator'\n",
    "NEW_PATH = '/home/beomi/kcelectra-pretrain-with-namu/convert/pt-ckpt/' + NEW_NAME"
   ]
  },
  {
   "cell_type": "code",
   "execution_count": 2,
   "metadata": {},
   "outputs": [],
   "source": [
    "from glob import glob"
   ]
  },
  {
   "cell_type": "code",
   "execution_count": 3,
   "metadata": {},
   "outputs": [
    {
     "data": {
      "text/plain": [
       "['./question-pair/kcelectra-base-v1.json',\n",
       " './naver-ner/kcelectra-base-v1.json',\n",
       " './paws/kcelectra-base-v1.json',\n",
       " './korsts/kcelectra-base-v1.json',\n",
       " './kornli/kcelectra-base-v1.json',\n",
       " './korquad/kcelectra-base-v1.json',\n",
       " './nsmc/kcelectra-base-v1.json']"
      ]
     },
     "execution_count": 3,
     "metadata": {},
     "output_type": "execute_result"
    }
   ],
   "source": [
    "glob('./*/kcelectra-base-v1.json')"
   ]
  },
  {
   "cell_type": "code",
   "execution_count": 4,
   "metadata": {},
   "outputs": [],
   "source": [
    "import json"
   ]
  },
  {
   "cell_type": "code",
   "execution_count": 5,
   "metadata": {},
   "outputs": [],
   "source": [
    "from pprint import pprint"
   ]
  },
  {
   "cell_type": "code",
   "execution_count": 6,
   "metadata": {},
   "outputs": [],
   "source": [
    "# !ls /home/beomi/kcelectra-pretrain-with-namu/convert/pt-ckpt/kcelectra-v2022-v2-300k-discriminator"
   ]
  },
  {
   "cell_type": "code",
   "execution_count": 7,
   "metadata": {},
   "outputs": [
    {
     "data": {
      "text/plain": [
       "['/home/beomi/kcelectra-pretrain-with-namu/convert/pt-ckpt/KcELECTRA-v2022-namu-400k-discriminator']"
      ]
     },
     "execution_count": 7,
     "metadata": {},
     "output_type": "execute_result"
    }
   ],
   "source": [
    "models = glob(NEW_PATH)\n",
    "models"
   ]
  },
  {
   "cell_type": "code",
   "execution_count": 8,
   "metadata": {},
   "outputs": [
    {
     "name": "stdout",
     "output_type": "stream",
     "text": [
      "/home/beomi/kcelectra-pretrain-with-namu/convert/pt-ckpt/KcELECTRA-v2022-namu-400k-discriminator\n",
      "./question-pair/KcELECTRA-v2022-namu-400k-discriminator.json\n",
      "./naver-ner/KcELECTRA-v2022-namu-400k-discriminator.json\n",
      "./paws/KcELECTRA-v2022-namu-400k-discriminator.json\n",
      "./korsts/KcELECTRA-v2022-namu-400k-discriminator.json\n",
      "./kornli/KcELECTRA-v2022-namu-400k-discriminator.json\n",
      "./korquad/KcELECTRA-v2022-namu-400k-discriminator.json\n",
      "./nsmc/KcELECTRA-v2022-namu-400k-discriminator.json\n"
     ]
    }
   ],
   "source": [
    "for ckpt in models:\n",
    "    print(ckpt)\n",
    "#     ckpt_step = ckpt.split('-')[-2].replace('k','')\n",
    "#     print(ckpt_step)\n",
    "    for original in glob('./*/kcelectra-base-v1.json'):\n",
    "        config = json.load(open(original))\n",
    "        config['model_name_or_path'] = ckpt\n",
    "        config['output_dir'] = config['output_dir'].replace('kcelectra-base-v1', NEW_NAME) \n",
    "        # pprint(config)\n",
    "        config['model_type'] = 'koelectra-base-v2'\n",
    "        new_path = original.replace('kcelectra-base-v1', NEW_NAME)\n",
    "        print(new_path)\n",
    "        json.dump(config, open(new_path, 'w'), indent=2)"
   ]
  },
  {
   "cell_type": "code",
   "execution_count": 9,
   "metadata": {},
   "outputs": [
    {
     "name": "stdout",
     "output_type": "stream",
     "text": [
      "{\r\n",
      "  \"task\": \"nsmc\",\r\n",
      "  \"data_dir\": \"data\",\r\n",
      "  \"ckpt_dir\": \"ckpt\",\r\n",
      "  \"train_file\": \"ratings_train.txt\",\r\n",
      "  \"dev_file\": \"\",\r\n",
      "  \"test_file\": \"ratings_test.txt\",\r\n",
      "  \"evaluate_test_during_training\": true,\r\n",
      "  \"eval_all_checkpoints\": true,\r\n",
      "  \"save_optimizer\": false,\r\n",
      "  \"do_lower_case\": false,\r\n",
      "  \"do_train\": true,\r\n",
      "  \"do_eval\": true,\r\n",
      "  \"max_seq_len\": 50,\r\n",
      "  \"num_train_epochs\": 8,\r\n",
      "  \"weight_decay\": 0.0,\r\n",
      "  \"gradient_accumulation_steps\": 1,\r\n",
      "  \"adam_epsilon\": 1e-08,\r\n",
      "  \"warmup_steps\": 0,\r\n",
      "  \"max_steps\": -1,\r\n",
      "  \"max_grad_norm\": 1.0,\r\n",
      "  \"no_cuda\": false,\r\n",
      "  \"model_type\": \"koelectra-base-v2\",\r\n",
      "  \"model_name_or_path\": \"/home/beomi/kcelectra-pretrain-with-namu/convert/pt-ckpt/KcELECTRA-v2022-namu-400k-discriminator\",\r\n",
      "  \"output_dir\": \"KcELECTRA-v2022-namu-400k-discriminator-nsmc-ckpt\",\r\n",
      "  \"seed\": 42,\r\n",
      "  \"train_batch_size\": 64,\r\n",
      "  \"eval_batch_size\": 128,\r\n",
      "  \"logging_steps\": 2000,\r\n",
      "  \"save_steps\": 2000,\r\n",
      "  \"learning_rate\": 5e-05\r\n",
      "}"
     ]
    }
   ],
   "source": [
    "nsmc_path = f'./nsmc/{NEW_NAME}.json'\n",
    "!cat $nsmc_path"
   ]
  },
  {
   "cell_type": "code",
   "execution_count": null,
   "metadata": {},
   "outputs": [],
   "source": []
  },
  {
   "cell_type": "code",
   "execution_count": null,
   "metadata": {},
   "outputs": [],
   "source": []
  }
 ],
 "metadata": {
  "kernelspec": {
   "display_name": "tag-to-sentence",
   "language": "python",
   "name": "tag-to-sentence"
  },
  "language_info": {
   "codemirror_mode": {
    "name": "ipython",
    "version": 3
   },
   "file_extension": ".py",
   "mimetype": "text/x-python",
   "name": "python",
   "nbconvert_exporter": "python",
   "pygments_lexer": "ipython3",
   "version": "3.9.7"
  }
 },
 "nbformat": 4,
 "nbformat_minor": 4
}
