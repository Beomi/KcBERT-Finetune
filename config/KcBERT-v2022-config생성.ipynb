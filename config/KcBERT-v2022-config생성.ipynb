{
 "cells": [
  {
   "cell_type": "code",
   "execution_count": 1,
   "metadata": {},
   "outputs": [],
   "source": [
    "from glob import glob"
   ]
  },
  {
   "cell_type": "code",
   "execution_count": 2,
   "metadata": {},
   "outputs": [
    {
     "name": "stdout",
     "output_type": "stream",
     "text": [
      "distilkobert.json\t\tKcELECTRA-base-50135-848k.json\r\n",
      "exkcbert-kowiki.json\t\tkcelectra-base-dev-1000k.json\r\n",
      "exkcbert-paws-extonly.json\tkcelectra-base-dev-1025k.json\r\n",
      "exkcbert-paws.json\t\tkcelectra-base-dev-500k.json\r\n",
      "hanbert.json\t\t\tkcelectra-base-dev-700k.json\r\n",
      "kcbert-base.json\t\tkcelectra-base-dev-900k.json\r\n",
      "kcbert-base-v2022.json\t\tkcelectra-base-v1.json\r\n",
      "kcbert-large.json\t\tkobert.json\r\n",
      "KcELECTRA-base-50135-100k.json\tkoelectra-base.json\r\n",
      "KcELECTRA-base-50135-200k.json\tkoelectra-base-v2.json\r\n",
      "KcELECTRA-base-50135-300k.json\tkoelectra-small.json\r\n",
      "KcELECTRA-base-50135-400k.json\tkoelectra-small-v2.json\r\n",
      "KcELECTRA-base-50135-500k.json\txlm-roberta.json\r\n"
     ]
    }
   ],
   "source": [
    "!ls nsmc/"
   ]
  },
  {
   "cell_type": "code",
   "execution_count": 3,
   "metadata": {},
   "outputs": [
    {
     "name": "stdout",
     "output_type": "stream",
     "text": [
      "{\r\n",
      "  \"task\": \"nsmc\",\r\n",
      "  \"data_dir\": \"data\",\r\n",
      "  \"ckpt_dir\": \"ckpt\",\r\n",
      "  \"train_file\": \"ratings_train.txt\",\r\n",
      "  \"dev_file\": \"\",\r\n",
      "  \"test_file\": \"ratings_test.txt\",\r\n",
      "  \"evaluate_test_during_training\": true,\r\n",
      "  \"eval_all_checkpoints\": true,\r\n",
      "  \"save_optimizer\": false,\r\n",
      "  \"do_lower_case\": false,\r\n",
      "  \"do_train\": true,\r\n",
      "  \"do_eval\": true,\r\n",
      "  \"max_seq_len\": 50,\r\n",
      "  \"num_train_epochs\": 8,\r\n",
      "  \"weight_decay\": 0.0,\r\n",
      "  \"gradient_accumulation_steps\": 1,\r\n",
      "  \"adam_epsilon\": 1e-8,\r\n",
      "  \"warmup_steps\": 0,\r\n",
      "  \"max_steps\": -1,\r\n",
      "  \"max_grad_norm\": 1.0,\r\n",
      "  \"no_cuda\": false,\r\n",
      "  \"model_type\": \"kcbert\",\r\n",
      "  \"model_name_or_path\": \"beomi/kcbert-base\",\r\n",
      "  \"output_dir\": \"kcbert-base-nsmc-ckpt\",\r\n",
      "  \"seed\": 42,\r\n",
      "  \"train_batch_size\": 64,\r\n",
      "  \"eval_batch_size\": 128,\r\n",
      "  \"logging_steps\": 2000,\r\n",
      "  \"save_steps\": 2000,\r\n",
      "  \"learning_rate\": 5e-5\r\n",
      "}"
     ]
    }
   ],
   "source": [
    "!cat nsmc/kcbert-base.json"
   ]
  },
  {
   "cell_type": "code",
   "execution_count": 4,
   "metadata": {},
   "outputs": [
    {
     "data": {
      "text/plain": [
       "['./nsmc/kcbert-base.json',\n",
       " './paws/kcbert-base.json',\n",
       " './korquad/kcbert-base.json',\n",
       " './question-pair/kcbert-base.json',\n",
       " './korsts/kcbert-base.json',\n",
       " './kornli/kcbert-base.json',\n",
       " './naver-ner/kcbert-base.json']"
      ]
     },
     "execution_count": 4,
     "metadata": {},
     "output_type": "execute_result"
    }
   ],
   "source": [
    "glob('./*/kcbert-base.json')"
   ]
  },
  {
   "cell_type": "code",
   "execution_count": 5,
   "metadata": {},
   "outputs": [],
   "source": [
    "import json"
   ]
  },
  {
   "cell_type": "code",
   "execution_count": 6,
   "metadata": {},
   "outputs": [],
   "source": [
    "from pprint import pprint"
   ]
  },
  {
   "cell_type": "code",
   "execution_count": 7,
   "metadata": {},
   "outputs": [
    {
     "name": "stdout",
     "output_type": "stream",
     "text": [
      "bert_config.json  config.json\t     tokenizer_config.json\r\n",
      "checkpoint\t  pytorch_model.bin  vocab.txt\r\n"
     ]
    }
   ],
   "source": [
    "!ls ../models/kcbert-v2022/"
   ]
  },
  {
   "cell_type": "code",
   "execution_count": 8,
   "metadata": {},
   "outputs": [
    {
     "data": {
      "text/plain": [
       "['/home/beomi/ssd4t/KcBERT-Finetune/models/kcbert-v2022/']"
      ]
     },
     "execution_count": 8,
     "metadata": {},
     "output_type": "execute_result"
    }
   ],
   "source": [
    "ckpts = glob('/home/beomi/ssd4t/KcBERT-Finetune/models/kcbert-v2022/')\n",
    "ckpts"
   ]
  },
  {
   "cell_type": "code",
   "execution_count": 9,
   "metadata": {},
   "outputs": [
    {
     "name": "stdout",
     "output_type": "stream",
     "text": [
      "./nsmc/kcbert-base-v2022.json\n",
      "./paws/kcbert-base-v2022.json\n",
      "./korquad/kcbert-base-v2022.json\n",
      "./question-pair/kcbert-base-v2022.json\n",
      "./korsts/kcbert-base-v2022.json\n",
      "./kornli/kcbert-base-v2022.json\n",
      "./naver-ner/kcbert-base-v2022.json\n"
     ]
    }
   ],
   "source": [
    "for ckpt in ckpts:\n",
    "#     ckpt_step = ckpt.split('-')[-1].replace('k','')\n",
    "#     print(ckpt_step)\n",
    "    for original in glob('./*/kcbert-base.json'):\n",
    "        config = json.load(open(original))\n",
    "        config['model_name_or_path'] = ckpt\n",
    "        config['output_dir'] = config['output_dir'].replace('kcbert-base', 'kcbert-base-v2022') \n",
    "        # pprint(config)\n",
    "        new_path = original.replace('kcbert-base', 'kcbert-base-v2022') \n",
    "        print(new_path)\n",
    "        json.dump(config, open(new_path, 'w'), indent=2)"
   ]
  },
  {
   "cell_type": "code",
   "execution_count": 10,
   "metadata": {},
   "outputs": [
    {
     "name": "stdout",
     "output_type": "stream",
     "text": [
      "{\r\n",
      "  \"task\": \"nsmc\",\r\n",
      "  \"data_dir\": \"data\",\r\n",
      "  \"ckpt_dir\": \"ckpt\",\r\n",
      "  \"train_file\": \"ratings_train.txt\",\r\n",
      "  \"dev_file\": \"\",\r\n",
      "  \"test_file\": \"ratings_test.txt\",\r\n",
      "  \"evaluate_test_during_training\": true,\r\n",
      "  \"eval_all_checkpoints\": true,\r\n",
      "  \"save_optimizer\": false,\r\n",
      "  \"do_lower_case\": false,\r\n",
      "  \"do_train\": true,\r\n",
      "  \"do_eval\": true,\r\n",
      "  \"max_seq_len\": 50,\r\n",
      "  \"num_train_epochs\": 8,\r\n",
      "  \"weight_decay\": 0.0,\r\n",
      "  \"gradient_accumulation_steps\": 1,\r\n",
      "  \"adam_epsilon\": 1e-08,\r\n",
      "  \"warmup_steps\": 0,\r\n",
      "  \"max_steps\": -1,\r\n",
      "  \"max_grad_norm\": 1.0,\r\n",
      "  \"no_cuda\": false,\r\n",
      "  \"model_type\": \"kcbert\",\r\n",
      "  \"model_name_or_path\": \"/home/beomi/ssd4t/KcBERT-Finetune/models/kcbert-v2022/\",\r\n",
      "  \"output_dir\": \"kcbert-base-v2022-nsmc-ckpt\",\r\n",
      "  \"seed\": 42,\r\n",
      "  \"train_batch_size\": 64,\r\n",
      "  \"eval_batch_size\": 128,\r\n",
      "  \"logging_steps\": 2000,\r\n",
      "  \"save_steps\": 2000,\r\n",
      "  \"learning_rate\": 5e-05\r\n",
      "}"
     ]
    }
   ],
   "source": [
    "!cat ./nsmc/kcbert-base-v2022.json\n"
   ]
  },
  {
   "cell_type": "code",
   "execution_count": null,
   "metadata": {},
   "outputs": [],
   "source": []
  }
 ],
 "metadata": {
  "kernelspec": {
   "display_name": "Python 3",
   "language": "python",
   "name": "python3"
  },
  "language_info": {
   "codemirror_mode": {
    "name": "ipython",
    "version": 3
   },
   "file_extension": ".py",
   "mimetype": "text/x-python",
   "name": "python",
   "nbconvert_exporter": "python",
   "pygments_lexer": "ipython3",
   "version": "3.8.8"
  }
 },
 "nbformat": 4,
 "nbformat_minor": 4
}
